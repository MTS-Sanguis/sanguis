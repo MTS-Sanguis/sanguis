{
 "cells": [
  {
   "cell_type": "code",
   "execution_count": 2,
   "metadata": {
    "collapsed": true
   },
   "outputs": [],
   "source": [
    "import urllib.request, json\n",
    "import pandas as pd"
   ]
  },
  {
   "cell_type": "code",
   "execution_count": 3,
   "metadata": {
    "collapsed": true
   },
   "outputs": [],
   "source": [
    "def get(url):\n",
    "    return urllib.request.urlopen(url).read()\n",
    "\n",
    "def get_json(url):\n",
    "    return json.loads(get(url).decode())\n",
    "\n",
    "api_key = open('/keybase/private/sw1sh/api_keys/apidata.mos.ru.key').read()\n",
    "version = get_json('https://apidata.mos.ru/version')['Version']"
   ]
  },
  {
   "cell_type": "code",
   "execution_count": 4,
   "metadata": {
    "collapsed": true
   },
   "outputs": [],
   "source": [
    "dataset_id = 515"
   ]
  },
  {
   "cell_type": "code",
   "execution_count": 5,
   "metadata": {
    "collapsed": true
   },
   "outputs": [],
   "source": [
    "raw_data = get_json(\"https://apidata.mos.ru/v1/datasets/%d/rows\" % dataset_id)"
   ]
  },
  {
   "cell_type": "code",
   "execution_count": 6,
   "metadata": {
    "collapsed": true
   },
   "outputs": [],
   "source": [
    "data = pd.DataFrame([row['Cells'] for row in raw_data])"
   ]
  },
  {
   "cell_type": "code",
   "execution_count": 21,
   "metadata": {},
   "outputs": [
    {
     "data": {
      "text/plain": [
       "{'coordinates': [[37.54978305810134, 55.7786208155827],\n",
       "  [37.55059093599087, 55.77788226344302]],\n",
       " 'type': 'MultiPoint'}"
      ]
     },
     "execution_count": 21,
     "metadata": {},
     "output_type": "execute_result"
    }
   ],
   "source": [
    "data.geoData[0]"
   ]
  },
  {
   "cell_type": "code",
   "execution_count": 7,
   "metadata": {},
   "outputs": [
    {
     "data": {
      "text/plain": [
       "0     [[55.7786208155827, 37.54978305810134], [55.77...\n",
       "1              [[55.61671151290809, 37.66015501733766]]\n",
       "2              [[55.66316708281587, 37.63720098818374]]\n",
       "3             [[55.787277292448806, 37.69139147293871]]\n",
       "4              [[55.72425876954226, 37.61720760525203]]\n",
       "5              [[55.77419036649527, 37.63366816592932]]\n",
       "6               [[55.6187670861282, 37.65375599833391]]\n",
       "7            [[55.755529806488255, 37.814071598965924]]\n",
       "8             [[55.721433994438904, 37.43425428945848]]\n",
       "9             [[55.86528192200014, 37.663392611326096]]\n",
       "10             [[55.78225329811771, 37.55288537192776]]\n",
       "11             [[55.7211126635832, 37.599161852170354]]\n",
       "12             [[55.73073002216122, 37.83445572972154]]\n",
       "13             [[55.98344457023784, 37.23385903629525]]\n",
       "14            [[55.82510082715192, 37.657132820432864]]\n",
       "15            [[55.742824841875034, 37.48440377053185]]\n",
       "16            [[55.800592261362084, 37.48144637664825]]\n",
       "17             [[55.66831775995905, 37.58091524675033]]\n",
       "Name: geoData, dtype: object"
      ]
     },
     "execution_count": 7,
     "metadata": {},
     "output_type": "execute_result"
    }
   ],
   "source": [
    "data.geoData.apply(lambda geo: [coords[::-1] for coords in geo['coordinates']])"
   ]
  }
 ],
 "metadata": {
  "anaconda-cloud": {},
  "kernelspec": {
   "display_name": "Python [conda env:py3k]",
   "language": "python",
   "name": "conda-env-py3k-py"
  },
  "language_info": {
   "codemirror_mode": {
    "name": "ipython",
    "version": 3
   },
   "file_extension": ".py",
   "mimetype": "text/x-python",
   "name": "python",
   "nbconvert_exporter": "python",
   "pygments_lexer": "ipython3",
   "version": "3.5.2"
  }
 },
 "nbformat": 4,
 "nbformat_minor": 2
}
